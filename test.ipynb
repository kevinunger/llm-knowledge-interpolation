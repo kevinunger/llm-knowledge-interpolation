{
 "cells": [
  {
   "cell_type": "code",
   "execution_count": 13,
   "id": "675a1358",
   "metadata": {},
   "outputs": [],
   "source": [
    "from transformers import AutoTokenizer, AutoModelForCausalLM, pipeline\n",
    "import torch\n",
    "import json\n",
    "import pandas as pd"
   ]
  },
  {
   "cell_type": "code",
   "execution_count": 14,
   "id": "4b4897e3",
   "metadata": {},
   "outputs": [
    {
     "name": "stderr",
     "output_type": "stream",
     "text": [
      "Loading checkpoint shards: 100%|██████████| 3/3 [00:04<00:00,  1.52s/it]\n"
     ]
    }
   ],
   "source": [
    "model_name = \"mistralai/Mistral-7B-Instruct-v0.2\"\n",
    "tokenizer = AutoTokenizer.from_pretrained(model_name)\n",
    "model = AutoModelForCausalLM.from_pretrained(model_name, torch_dtype=torch.float16, device_map=\"auto\")"
   ]
  },
  {
   "cell_type": "code",
   "execution_count": 3,
   "id": "8dadefdc",
   "metadata": {},
   "outputs": [
    {
     "name": "stderr",
     "output_type": "stream",
     "text": [
      "Device set to use cuda:0\n"
     ]
    }
   ],
   "source": [
    "llm = pipeline(\"text-generation\", model=model, tokenizer=tokenizer, max_new_tokens=64)"
   ]
  },
  {
   "cell_type": "code",
   "execution_count": 4,
   "id": "a50fceb3",
   "metadata": {},
   "outputs": [],
   "source": [
    "path = \"ds/verifiability_judgments/verifiability_judgments_dev.jsonl/verifiability_judgments_dev.jsonl\"\n",
    "examples = []\n",
    "with open(path, \"r\", encoding=\"utf-8\") as f:\n",
    "    for line in f:\n",
    "        obj = json.loads(line)\n",
    "        if all(k in obj for k in [\"query\", \"statement\", \"source_text\", \"source_supports_statement\"]):\n",
    "            examples.append(obj)"
   ]
  },
  {
   "cell_type": "code",
   "execution_count": 15,
   "id": "571f206b",
   "metadata": {},
   "outputs": [
    {
     "data": {
      "text/plain": [
       "'\\n{\"query\": \"where was for you by rita ora filmed\", \\n \"response\": \\n    \"The music video for \"For You\" by Liam Payne and Rita Ora was filmed at **Oheka Castle**      on **Long Island**, off the coast of the eastern United States.\", \"statement\": \"The music video for \"For You\"      by Liam Payne and Rita Ora was filmed at **Oheka Castle** on **Long Island**, off the coast of the eastern United States.\", \\n\\n \"source_title\": \"For You (Liam Payne and Rita Ora song)\", \\n \"source_content_title\": \"Promotion\",\\n \"source_date\": \"2018-01-05\", \\n \"source_author\": null, \\n \"source_text\": \\n    \"\" For You \" is a song recorded by British singers Liam Payne and Rita Ora for the soundtrack to the film Fifty Shades Freed (2018).      It was released on 5 January 2018 through Universal Studios and Republic Records as the lead single from the soundtrack.         The music video was released on 26 January 2018.       [2] The song was also included on Ora\\'s second studio album, Phoenix (2018) and Payne\\'s debut studio album, LP1 (2019).\\n\"For You\" reached the top ten in the United Kingdom,      France, Norway, Switzerland, Austria, Portugal, Poland and Belgium, and peaked at number one in Germany.\\nOn 20 December 2017,            .... \", \\n \"source_localized_evidence\": \"The filming took place at Oheka Castle on Long Island, off the coast of the eastern United States.\", \\n \"source_supports_statement\": \"complete_support\", \\n \"source_url\": \"https://en.wikipedia.org/wiki/For_You_(Liam_Payne_and_Rita_Ora_song)\"}\\n\\n'"
      ]
     },
     "execution_count": 15,
     "metadata": {},
     "output_type": "execute_result"
    }
   ],
   "source": [
    "# Bsp Datenpunkt\n",
    "\"\"\"\n",
    "{\"query\": \"where was for you by rita ora filmed\", \n",
    " \"response\": \n",
    "    \"The music video for \\\"For You\\\" by Liam Payne and Rita Ora was filmed at **Oheka Castle** \\\n",
    "     on **Long Island**, off the coast of the eastern United States.\", \"statement\": \"The music video for \\\"For You\\\" \\\n",
    "     by Liam Payne and Rita Ora was filmed at **Oheka Castle** on **Long Island**, off the coast of the eastern United States.\", \n",
    " \n",
    " \"source_title\": \"For You (Liam Payne and Rita Ora song)\", \n",
    " \"source_content_title\": \"Promotion\",\n",
    " \"source_date\": \"2018-01-05\", \n",
    " \"source_author\": null, \n",
    " \"source_text\": \n",
    "    \"\\\" For You \\\" is a song recorded by British singers Liam Payne and Rita Ora for the soundtrack to the film Fifty Shades Freed (2018).\\\n",
    "      It was released on 5 January 2018 through Universal Studios and Republic Records as the lead single from the soundtrack. \\\n",
    "        The music video was released on 26 January 2018. \\\n",
    "      [2] The song was also included on Ora's second studio album, Phoenix (2018) and Payne's debut studio album, LP1 (2019).\\n\\\"For You\\\" reached the top ten in the United Kingdom,\\\n",
    "      France, Norway, Switzerland, Austria, Portugal, Poland and Belgium, and peaked at number one in Germany.\\nOn 20 December 2017,\\\n",
    "            .... \", \n",
    " \"source_localized_evidence\": \"The filming took place at Oheka Castle on Long Island, off the coast of the eastern United States.\", \n",
    " \"source_supports_statement\": \"complete_support\", \n",
    " \"source_url\": \"https://en.wikipedia.org/wiki/For_You_(Liam_Payne_and_Rita_Ora_song)\"}\n",
    "\n",
    "\"\"\""
   ]
  },
  {
   "cell_type": "code",
   "execution_count": 16,
   "id": "a46cbd2e",
   "metadata": {},
   "outputs": [
    {
     "data": {
      "text/plain": [
       "'\\nRQ1:Wie kann LLM-Reasoning genutzt werden, um die Relevanz, Korrektheit und Vollständigkeit der abgerufenen Dokumente zu bewerten?\\n\\n--> LLM performance evaluieren\\nVersteht das LLM das Zusammenspiel von Aussage & Quelle?\\nWo interpoliert es Fakten, wenn sie fehlen? (RQ2)\\n'"
      ]
     },
     "execution_count": 16,
     "metadata": {},
     "output_type": "execute_result"
    }
   ],
   "source": [
    "'''\n",
    "RQ1:Wie kann LLM-Reasoning genutzt werden, um die Relevanz, Korrektheit und Vollständigkeit der abgerufenen Dokumente zu bewerten?\n",
    "\n",
    "--> LLM performance evaluieren\n",
    "Versteht das LLM das Zusammenspiel von Aussage & Quelle?\n",
    "Wo interpoliert es Fakten, wenn sie fehlen? (RQ2)\n",
    "'''"
   ]
  },
  {
   "cell_type": "code",
   "execution_count": null,
   "id": "3fbb008f",
   "metadata": {},
   "outputs": [
    {
     "name": "stdout",
     "output_type": "stream",
     "text": [
      "dict_keys(['query', 'response', 'statement', 'source_title', 'source_content_title', 'source_date', 'source_author', 'source_text', 'source_raw_text', 'source_localized_evidence', 'source_supports_statement', 'source_url'])\n",
      "{'partial_support', 'complete_support', 'no_support'}\n"
     ]
    }
   ],
   "source": [
    "# Wie sieht DS aus?\n",
    "\n",
    "print(examples[0].keys())\n",
    "print(set(ex['source_supports_statement'] for ex in examples))\n",
    "#{'partial_support', 'complete_support', 'no_support'}\n",
    "\n",
    "\n"
   ]
  },
  {
   "cell_type": "code",
   "execution_count": null,
   "id": "15c7a73d",
   "metadata": {},
   "outputs": [],
   "source": [
    "# Testloop\n",
    "results = []\n",
    "for ex in examples[:10]:\n",
    "  prompt = f\"\"\"You are an assistant evaluating the factual support of a statement.\n",
    "\n",
    "  Query: {ex['query']}\n",
    "\n",
    "  Statement: {ex['statement']}\n",
    "\n",
    "  Source document:\n",
    "  \\\"\\\"\\\"\n",
    "  {ex['source_text']}\n",
    "  \\\"\\\"\\\"\n",
    "\n",
    "  Does the source fully support the statement? Answer with one of:\n",
    "  - complete_support\n",
    "  - partial_support\n",
    "  - no_support\n",
    "  \"\"\"\n",
    "  \n",
    "  output = llm(prompt)[0][\"generated_text\"]\n",
    "  prediction = \"no_support\"\n",
    "  if \"complete_support\" in output:\n",
    "      prediction = \"complete_support\"\n",
    "  elif \"partial_support\" in output:\n",
    "      prediction = \"partial_support\"\n",
    "\n",
    "  results.append({\n",
    "      \"query\": ex[\"query\"],\n",
    "      \"statement\": ex[\"statement\"],\n",
    "      \"label\": ex[\"source_supports_statement\"],\n",
    "      \"prediction\": prediction,\n",
    "      \"match\": prediction == ex[\"source_supports_statement\"]\n",
    "  })\n",
    "\n",
    "\n",
    "df = pd.DataFrame(results)\n",
    "print(df[[\"label\", \"prediction\", \"match\"]])\n",
    "print(f\"Accuracy: {(df['match'].sum() / len(df)):.2f}\")\n",
    "\n"
   ]
  },
  {
   "cell_type": "code",
   "execution_count": 8,
   "id": "f70fbf90",
   "metadata": {},
   "outputs": [
    {
     "name": "stdout",
     "output_type": "stream",
     "text": [
      "{'query': 'where was for you by rita ora filmed', 'response': 'The music video for \"For You\" by Liam Payne and Rita Ora was filmed at **Oheka Castle** on **Long Island**, off the coast of the eastern United States.', 'statement': 'The music video for \"For You\" by Liam Payne and Rita Ora was filmed at **Oheka Castle** on **Long Island**, off the coast of the eastern United States.', 'source_title': 'For You (Liam Payne and Rita Ora song)', 'source_content_title': 'Promotion', 'source_date': '2018-01-05', 'source_author': None, 'source_text': '\" For You \" is a song recorded by British singers Liam Payne and Rita Ora for the soundtrack to the film Fifty Shades Freed (2018). It was released on 5 January 2018 through Universal Studios and Republic Records as the lead single from the soundtrack. The music video was released on 26 January 2018. [2] The song was also included on Ora\\'s second studio album, Phoenix (2018) and Payne\\'s debut studio album, LP1 (2019).\\n\"For You\" reached the top ten in the United Kingdom, France, Norway, Switzerland, Austria, Portugal, Poland and Belgium, and peaked at number one in Germany.\\nOn 20 December 2017, both artists posted a promotional shot on social media of themselves standing together, dressed up to the nines, along with the hashtag \"#FiftyShadesFreed\". [3] [4] [5] [6] The picture started speculation on a possible collaboration between the two for the upcoming film Fifty Shades Freed , in which Ora appears. [7] [8] [9] [10] A day after, the pair released the first teaser of the song on social media. [11] On 3 January 2018, they revealed the song\\'s release date and released the second teaser, [12] [13] a video showing the studio session in which they recorded the song. [14] [15] [16] [17]\\nLauren O\\'Neill of Vice called it \"a fine song with a serviceable chorus\", he disliked Payne\\'s appearance on the track and wrote that it would be \"entirely better if Rita, whose voice sounds very pretty here, had been left to her own devices\". [18] Patrick Hosken of MTV News wrote that \"the song\\'s opening blares immediately reminded me of Celine Dion \\'s \" My Heart Will Go On \". [19] Sam Damshenas of Gay Times deemed the song \"a sultry synthpop duet\" that is \"catchy as f**k\". He expect the song to be \"a smash hit\", considering how well the previous singles from Fifty Shades soundtrack albums have done. [20] Kevin Goddard of HotNewHipHop described the song as \"a sultry, steamy, upbeat and pop-driven dance record\". [21]\\nRap-Up opined that the duet \"combines upbeat harmonies with catchy melodies\". [22] Michelle Phi of Clevver wrote that \"the upbeat dance tempo and sultry lyrics are the perfect combo to get any fan excited about the final installment of Fifty Shades of Grey\" and the song \"could be the steamiest song to grace the franchise yet\". [23] Similarly, Mike Vulpo of E! also regarded the song as \"an upbeat dance number that may just get fans more pumped for the steamy movie hitting theatres before Valentine\\'s Day\". [24]\\n\"For You\" peaked at number one in Germany, making it Payne and Ora\\'s first song to top the chart in the country. [25] The song charted within the top five in the charts of Austria, France, Portugal and Switzerland. [26] [27] [28] [29] The single also reached the top 10 in the UK, peaking at number eight, making it Payne\\'s second top 10 in the country as a solo artist and Ora\\'s twelfth. [30] [31]\\nThe official music video of the song was released on 26 January 2018 on the Fifty Shades Vevo account. It was directed by Hannah Lux Davis . The filming took place at Oheka Castle on Long Island , off the coast of the eastern United States. It features Ora in a red dress walking and running in the garden and Payne in the castle, with them meeting on the grand staircase at the end. Special effects throughout also show the pair levitating. Comparisons were drawn to the video of \" Blank Space \" by Taylor Swift , as both videos were filmed in the same location. [32]\\nOn 31 January 2018, Payne and Ora performed \"For You\" on The Tonight Show Starring Jimmy Fallon . [33] [34] They also sang on Today on 1 February, and on the French television show C à vous on 5 February. [35] [36] The duo also performed the song at the 2018 Brit Awards on 21 February 2018. On 12 April 2018, Payne and Ora performed the song live after Ora performed \" Your Song \" and \" Anywhere \" at the German Echo Music Prize . [37] On 18 April 2020, Payne and Ora performed the song at One World: Together at Home .\\nCredits adapted from Tidal . [38]\\n- Liam Payne – vocals, background vocals\\n- Rita Ora – vocals, background vocals\\n- Ali Payami – songwriting, production, background vocals, keyboard, bass, drums, horn, percussion, programming\\n- Ali Tamposi – songwriting, background vocals\\n- Andrew Watt – songwriting, production, background vocals, guitar\\n- Peter Karlsson – production, background vocals\\n- John Hanes – mix engineering\\n- Sam Holland – engineering', 'source_raw_text': '\" For You \" is a song recorded by British singers Liam Payne and Rita Ora for the soundtrack to the film Fifty Shades Freed (2018). It was released on 5 January 2018 through Universal Studios and Republic Records as the lead single from the soundtrack. The music video was released on 26 January 2018. [2] The song was also included on Ora\\'s second studio album, Phoenix (2018) and Payne\\'s debut studio album, LP1 (2019). \"For You\" reached the top ten in the United Kingdom, France, Norway, Switzerland, Austria, Portugal, Poland and Belgium, and peaked at number one in Germany. On 20 December 2017, both artists posted a promotional shot on social media of themselves standing together, dressed up to the nines, along with the hashtag \"#FiftyShadesFreed\". [3] [4] [5] [6] The picture started speculation on a possible collaboration between the two for the upcoming film Fifty Shades Freed , in which Ora appears. [7] [8] [9] [10] A day after, the pair released the first teaser of the song on social media. [11] On 3 January 2018, they revealed the song\\'s release date and released the second teaser, [12] [13] a video showing the studio session in which they recorded the song. [14] [15] [16] [17] Lauren O\\'Neill of Vice called it \"a fine song with a serviceable chorus\", he disliked Payne\\'s appearance on the track and wrote that it would be \"entirely better if Rita, whose voice sounds very pretty here, had been left to her own devices\". [18] Patrick Hosken of MTV News wrote that \"the song\\'s opening blares immediately reminded me of Celine Dion \\'s \" My Heart Will Go On \". [19] Sam Damshenas of Gay Times deemed the song \"a sultry synthpop duet\" that is \"catchy as f**k\". He expect the song to be \"a smash hit\", considering how well the previous singles from Fifty Shades soundtrack albums have done. [20] Kevin Goddard of HotNewHipHop described the song as \"a sultry, steamy, upbeat and pop-driven dance record\". [21] Rap-Up opined that the duet \"combines upbeat harmonies with catchy melodies\". [22] Michelle Phi of Clevver wrote that \"the upbeat dance tempo and sultry lyrics are the perfect combo to get any fan excited about the final installment of Fifty Shades of Grey\" and the song \"could be the steamiest song to grace the franchise yet\". [23] Similarly, Mike Vulpo of E! also regarded the song as \"an upbeat dance number that may just get fans more pumped for the steamy movie hitting theatres before Valentine\\'s Day\". [24] \"For You\" peaked at number one in Germany, making it Payne and Ora\\'s first song to top the chart in the country. [25] The song charted within the top five in the charts of Austria, France, Portugal and Switzerland. [26] [27] [28] [29] The single also reached the top 10 in the UK, peaking at number eight, making it Payne\\'s second top 10 in the country as a solo artist and Ora\\'s twelfth. [30] [31] The official music video of the song was released on 26 January 2018 on the Fifty Shades Vevo account. It was directed by Hannah Lux Davis . The filming took place at Oheka Castle on Long Island , off the coast of the eastern United States. It features Ora in a red dress walking and running in the garden and Payne in the castle, with them meeting on the grand staircase at the end. Special effects throughout also show the pair levitating. Comparisons were drawn to the video of \" Blank Space \" by Taylor Swift , as both videos were filmed in the same location. [32] On 31 January 2018, Payne and Ora performed \"For You\" on The Tonight Show Starring Jimmy Fallon . [33] [34] They also sang on Today on 1 February, and on the French television show C à vous on 5 February. [35] [36] The duo also performed the song at the 2018 Brit Awards on 21 February 2018. On 12 April 2018, Payne and Ora performed the song live after Ora performed \" Your Song \" and \" Anywhere \" at the German Echo Music Prize . [37] On 18 April 2020, Payne and Ora performed the song at One World: Together at Home . Credits adapted from Tidal . [38] Liam Payne – vocals, background vocals Rita Ora – vocals, background vocals Ali Payami – songwriting, production, background vocals, keyboard, bass, drums, horn, percussion, programming Ali Tamposi – songwriting, background vocals Andrew Watt – songwriting, production, background vocals, guitar Peter Karlsson – production, background vocals John Hanes – mix engineering Sam Holland – engineering', 'source_localized_evidence': 'The filming took place at Oheka Castle on Long Island, off the coast of the eastern United States.', 'source_supports_statement': 'complete_support', 'source_url': 'https://en.wikipedia.org/wiki/For_You_(Liam_Payne_and_Rita_Ora_song)'}\n",
      "{'query': 'where was for you by rita ora filmed', 'statement': 'The music video for \"For You\" by Liam Payne and Rita Ora was filmed at **Oheka Castle** on **Long Island**, off the coast of the eastern United States.', 'label': 'complete_support', 'prediction': 'complete_support', 'match': True}\n"
     ]
    }
   ],
   "source": [
    "print(examples[0])\n",
    "print(results[0])"
   ]
  },
  {
   "cell_type": "code",
   "execution_count": null,
   "id": "598e9aa1",
   "metadata": {},
   "outputs": [
    {
     "name": "stderr",
     "output_type": "stream",
     "text": [
      "Setting `pad_token_id` to `eos_token_id`:2 for open-end generation.\n",
      "Setting `pad_token_id` to `eos_token_id`:2 for open-end generation.\n",
      "Setting `pad_token_id` to `eos_token_id`:2 for open-end generation.\n"
     ]
    }
   ],
   "source": [
    "import re\n",
    "import pandas as pd\n",
    "\n",
    "# Nur schwierige Beispiele auswählen\n",
    "filtered_examples = [ex for ex in examples if ex[\"source_supports_statement\"] in [\"partial_support\", \"no_support\"]]\n",
    "filtered_examples = filtered_examples[:10]  # z.B. die ersten 10\n",
    "\n",
    "results = []\n",
    "\n",
    "for i, ex in enumerate(filtered_examples):\n",
    "    prompt = f\"\"\"You are an assistant evaluating the factual support of a statement.\n",
    "\n",
    "Query: {ex['query']}\n",
    "\n",
    "Statement: {ex['statement']}\n",
    "\n",
    "Source document:\n",
    "\\\"\\\"\\\"\n",
    "{ex['source_text']}\n",
    "\\\"\\\"\\\"\n",
    "\n",
    "Does the source fully support the statement?\n",
    "\n",
    "Answer with exactly one of the following labels on a new line:\n",
    "complete_support\n",
    "partial_support\n",
    "no_support\n",
    "\"\"\"\n",
    "\n",
    "    # LLM-Antwort erzeugen\n",
    "    output = llm(prompt)[0][\"generated_text\"]\n",
    "    output_clean = output.strip().lower()\n",
    "\n",
    "    # Label per Regex extrahieren\n",
    "    match = re.search(r\"\\b(complete_support|partial_support|no_support)\\b\", output_clean)\n",
    "    prediction = match.group(1) if match else \"no_support\"\n",
    "\n",
    "    results.append({\n",
    "        \"index\": i,\n",
    "        \"query\": ex[\"query\"],\n",
    "        \"statement\": ex[\"statement\"],\n",
    "        \"label\": ex[\"source_supports_statement\"],\n",
    "        \"prediction\": prediction,\n",
    "        \"match\": prediction == ex[\"source_supports_statement\"],\n",
    "        \"raw_output\": output\n",
    "    })\n",
    "\n",
    "# Ergebnisse in DataFrame\n",
    "df = pd.DataFrame(results)\n",
    "\n",
    "# Auswertung\n",
    "print(df[[\"label\", \"prediction\", \"match\"]])\n",
    "print(f\"\\nAccuracy on hard examples: {round(df['match'].sum() / len(df), 2)}\")\n",
    "\n",
    "# Fehlerfälle ausgeben\n",
    "print(\"\\nFalsche Vorhersagen:\")\n",
    "print(df[df[\"match\"] == False][[\"query\", \"statement\", \"label\", \"prediction\", \"raw_output\"]])\n"
   ]
  }
 ],
 "metadata": {
  "kernelspec": {
   "display_name": ".venv",
   "language": "python",
   "name": "python3"
  },
  "language_info": {
   "codemirror_mode": {
    "name": "ipython",
    "version": 3
   },
   "file_extension": ".py",
   "mimetype": "text/x-python",
   "name": "python",
   "nbconvert_exporter": "python",
   "pygments_lexer": "ipython3",
   "version": "3.12.2"
  }
 },
 "nbformat": 4,
 "nbformat_minor": 5
}
